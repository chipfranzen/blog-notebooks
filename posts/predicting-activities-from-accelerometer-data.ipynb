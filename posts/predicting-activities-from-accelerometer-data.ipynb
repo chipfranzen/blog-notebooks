{
 "cells": [
  {
   "cell_type": "markdown",
   "metadata": {},
   "source": [
    "# Using accelerometer data to identify activities\n",
    "\n",
    "Charles Franzen\n",
    "\n",
    "This [data set](http://archive.ics.uci.edu/ml/datasets/Activity+Recognition+from+Single+Chest-Mounted+Accelerometer#) consists of discrete samples of accelerometer data during various types of activities. This is a supervised learning classification task on time series data. I've used scikit-learn, scipy, numpy, and pandas as the core technologies of this analysis.\n",
    "\n",
    "<!-- TEASER_END -->\n",
    "\n",
    "From the README:\n",
    "\n",
    "*The dataset collects data from a wearable accelerometer mounted on the chest. Uncalibrated Accelerometer Data are collected from 15 participants performing 7 activities. The dataset is intended for Activity Recognition research purposes. It provides challenges for identification and authentication of people using motion patterns.*\n",
    "\n",
    "## Overview\n",
    "\n",
    "The task that I've given myself is to identify the wearers of activity given a sample of accelerometer data. The general approach that I took was that of Casale and Radeva in their [paper](https://www.researchgate.net/publication/221258784_Human_Activity_Recognition_from_Accelerometer_Data_Using_at_Wearable_Device?ev=prf_pub) cited in the README that came with the data. The general approach involves dividing the dataset into sequential overlapping windows, then extracting features in the form of statistics from these smaller time-series. I didn't know much about signal processing prior to this project and I really enjoyed learning these techniques for time-series analysis."
   ]
  },
  {
   "cell_type": "code",
   "execution_count": 1,
   "metadata": {
    "collapsed": true
   },
   "outputs": [],
   "source": [
    "# import libraries for matrix manipulation and data visualization\n",
    "\n",
    "%matplotlib inline\n",
    "import numpy as np\n",
    "import pandas as pd\n",
    "import matplotlib.pyplot as plt"
   ]
  },
  {
   "cell_type": "markdown",
   "metadata": {},
   "source": [
    "The data set comes with uncalibrated data from 15 different participants in the study. I've decided to focus on just one of those participants."
   ]
  },
  {
   "cell_type": "code",
   "execution_count": 2,
   "metadata": {
    "collapsed": false
   },
   "outputs": [],
   "source": [
    "# import data\n",
    "\n",
    "data = pd.read_csv('activity_recognition/1.csv')"
   ]
  },
  {
   "cell_type": "markdown",
   "metadata": {},
   "source": [
    "## Exploratory Analysis"
   ]
  },
  {
   "cell_type": "code",
   "execution_count": 3,
   "metadata": {
    "collapsed": false
   },
   "outputs": [
    {
     "data": {
      "text/html": [
       "<div>\n",
       "<table border=\"1\" class=\"dataframe\">\n",
       "  <thead>\n",
       "    <tr style=\"text-align: right;\">\n",
       "      <th></th>\n",
       "      <th>0</th>\n",
       "      <th>1502</th>\n",
       "      <th>2215</th>\n",
       "      <th>2153</th>\n",
       "      <th>1</th>\n",
       "    </tr>\n",
       "  </thead>\n",
       "  <tbody>\n",
       "    <tr>\n",
       "      <th>0</th>\n",
       "      <td>1.0</td>\n",
       "      <td>1667</td>\n",
       "      <td>2072</td>\n",
       "      <td>2047</td>\n",
       "      <td>1</td>\n",
       "    </tr>\n",
       "    <tr>\n",
       "      <th>1</th>\n",
       "      <td>2.0</td>\n",
       "      <td>1611</td>\n",
       "      <td>1957</td>\n",
       "      <td>1906</td>\n",
       "      <td>1</td>\n",
       "    </tr>\n",
       "    <tr>\n",
       "      <th>2</th>\n",
       "      <td>3.0</td>\n",
       "      <td>1601</td>\n",
       "      <td>1939</td>\n",
       "      <td>1831</td>\n",
       "      <td>1</td>\n",
       "    </tr>\n",
       "    <tr>\n",
       "      <th>3</th>\n",
       "      <td>4.0</td>\n",
       "      <td>1643</td>\n",
       "      <td>1965</td>\n",
       "      <td>1879</td>\n",
       "      <td>1</td>\n",
       "    </tr>\n",
       "    <tr>\n",
       "      <th>4</th>\n",
       "      <td>5.0</td>\n",
       "      <td>1604</td>\n",
       "      <td>1959</td>\n",
       "      <td>1921</td>\n",
       "      <td>1</td>\n",
       "    </tr>\n",
       "  </tbody>\n",
       "</table>\n",
       "</div>"
      ],
      "text/plain": [
       "     0  1502  2215  2153  1\n",
       "0  1.0  1667  2072  2047  1\n",
       "1  2.0  1611  1957  1906  1\n",
       "2  3.0  1601  1939  1831  1\n",
       "3  4.0  1643  1965  1879  1\n",
       "4  5.0  1604  1959  1921  1"
      ]
     },
     "execution_count": 3,
     "metadata": {},
     "output_type": "execute_result"
    }
   ],
   "source": [
    "data.head()"
   ]
  },
  {
   "cell_type": "code",
   "execution_count": 4,
   "metadata": {
    "collapsed": false
   },
   "outputs": [
    {
     "data": {
      "text/html": [
       "<div>\n",
       "<table border=\"1\" class=\"dataframe\">\n",
       "  <thead>\n",
       "    <tr style=\"text-align: right;\">\n",
       "      <th></th>\n",
       "      <th>sample</th>\n",
       "      <th>x</th>\n",
       "      <th>y</th>\n",
       "      <th>z</th>\n",
       "      <th>target</th>\n",
       "    </tr>\n",
       "  </thead>\n",
       "  <tbody>\n",
       "    <tr>\n",
       "      <th>0</th>\n",
       "      <td>1.0</td>\n",
       "      <td>1667</td>\n",
       "      <td>2072</td>\n",
       "      <td>2047</td>\n",
       "      <td>1</td>\n",
       "    </tr>\n",
       "    <tr>\n",
       "      <th>1</th>\n",
       "      <td>2.0</td>\n",
       "      <td>1611</td>\n",
       "      <td>1957</td>\n",
       "      <td>1906</td>\n",
       "      <td>1</td>\n",
       "    </tr>\n",
       "    <tr>\n",
       "      <th>2</th>\n",
       "      <td>3.0</td>\n",
       "      <td>1601</td>\n",
       "      <td>1939</td>\n",
       "      <td>1831</td>\n",
       "      <td>1</td>\n",
       "    </tr>\n",
       "    <tr>\n",
       "      <th>3</th>\n",
       "      <td>4.0</td>\n",
       "      <td>1643</td>\n",
       "      <td>1965</td>\n",
       "      <td>1879</td>\n",
       "      <td>1</td>\n",
       "    </tr>\n",
       "    <tr>\n",
       "      <th>4</th>\n",
       "      <td>5.0</td>\n",
       "      <td>1604</td>\n",
       "      <td>1959</td>\n",
       "      <td>1921</td>\n",
       "      <td>1</td>\n",
       "    </tr>\n",
       "  </tbody>\n",
       "</table>\n",
       "</div>"
      ],
      "text/plain": [
       "   sample     x     y     z  target\n",
       "0     1.0  1667  2072  2047       1\n",
       "1     2.0  1611  1957  1906       1\n",
       "2     3.0  1601  1939  1831       1\n",
       "3     4.0  1643  1965  1879       1\n",
       "4     5.0  1604  1959  1921       1"
      ]
     },
     "execution_count": 4,
     "metadata": {},
     "output_type": "execute_result"
    }
   ],
   "source": [
    "# renaming columns\n",
    "data.columns = ['sample', 'x', 'y', 'z', 'target']\n",
    "data.head()"
   ]
  },
  {
   "cell_type": "code",
   "execution_count": 5,
   "metadata": {
    "collapsed": true
   },
   "outputs": [],
   "source": [
    "# calculate and add norms for each data point\n",
    "data['m'] = np.sqrt(data['x']**2 + data['y']**2 + data['z']**2)"
   ]
  },
  {
   "cell_type": "markdown",
   "metadata": {},
   "source": [
    "### Descriptive statistics"
   ]
  },
  {
   "cell_type": "code",
   "execution_count": 6,
   "metadata": {
    "collapsed": false
   },
   "outputs": [
    {
     "name": "stdout",
     "output_type": "stream",
     "text": [
      "No missing values.\n"
     ]
    }
   ],
   "source": [
    "# check for missing data\n",
    "nan_flag = False\n",
    "for c in data.columns:\n",
    "    if any(data[c] == np.nan):\n",
    "        print c, 'contains NaNs'\n",
    "        nan_flag = True\n",
    "if not nan_flag:\n",
    "    print 'No missing values.'"
   ]
  },
  {
   "cell_type": "code",
   "execution_count": 7,
   "metadata": {
    "collapsed": false
   },
   "outputs": [
    {
     "data": {
      "text/plain": [
       "7    0.515372\n",
       "1    0.207237\n",
       "4    0.165292\n",
       "3    0.068794\n",
       "5    0.019637\n",
       "6    0.017951\n",
       "2    0.005711\n",
       "0    0.000006\n",
       "Name: target, dtype: float64"
      ]
     },
     "execution_count": 7,
     "metadata": {},
     "output_type": "execute_result"
    }
   ],
   "source": [
    "# examine class distribution\n",
    "data['target'].value_counts()/float(len(data))"
   ]
  },
  {
   "cell_type": "markdown",
   "metadata": {},
   "source": [
    "### Visualizing the series"
   ]
  },
  {
   "cell_type": "code",
   "execution_count": 8,
   "metadata": {
    "collapsed": false
   },
   "outputs": [
    {
     "data": {
      "image/png": "[encoded data removed]",
      "text/plain": [
       "<matplotlib.figure.Figure at 0x106ed4fd0>"
      ]
     },
     "metadata": {},
     "output_type": "display_data"
    }
   ],
   "source": [
    "plt.style.use('fivethirtyeight')\n",
    "\n",
    "for c in range(1, 8):\n",
    "    plt.plot(data[data['target'] == c]['m'], linewidth=.5)\n",
    "plt.xlim(0, len(data))\n",
    "plt.ylim(3400, 4100)\n",
    "plt.ticklabel_format(style='sci', axis='x', scilimits=(0,0))"
   ]
  },
  {
   "cell_type": "markdown",
   "metadata": {},
   "source": [
    "This gives an idea of the shape of the signal. It's clear that there are large differences between the different activities."
   ]
  },
  {
   "cell_type": "markdown",
   "metadata": {},
   "source": [
    "## Preprocessing\n",
    "\n",
    "As recommended in the paper cited above, I generated two new time series from each of the original series plus the norms by applying digital filters. For each series I applied a high and low pass filter, with the cutoff set to 2hz, resulting in 12 total series."
   ]
  },
  {
   "cell_type": "code",
   "execution_count": 9,
   "metadata": {
    "collapsed": false
   },
   "outputs": [
    {
     "data": {
      "text/plain": [
       "<matplotlib.text.Text at 0x110a5a210>"
      ]
     },
     "execution_count": 9,
     "metadata": {},
     "output_type": "execute_result"
    },
    {
     "data": {
      "image/png": "[encoded data removed]",
      "text/plain": [
       "<matplotlib.figure.Figure at 0x1108f9210>"
      ]
     },
     "metadata": {},
     "output_type": "display_data"
    }
   ],
   "source": [
    "from scipy.signal import butter, lfilter, freqz\n",
    "\n",
    "def butter_lowpass(cutoff, fs, order=5):\n",
    "    # helper function to return coefficients for scipy.lfilter\n",
    "    nyq = 0.5 * fs\n",
    "    normal_cutoff = cutoff / nyq\n",
    "    b, a = butter(order, normal_cutoff, btype='low', analog=False)\n",
    "    return b, a\n",
    "\n",
    "def butter_lowpass_filter(data, cutoff, fs, order=5):\n",
    "    # applies a lowpass filter\n",
    "    b, a = butter_lowpass(cutoff, fs, order=order)\n",
    "    y = lfilter(b, a, data)\n",
    "    return y\n",
    "\n",
    "def butter_highpass(cutoff, fs, order=5):\n",
    "    # helper function to return coefficients for scipy.lfilter\n",
    "    nyq = 0.5 * fs\n",
    "    normal_cutoff = cutoff / nyq\n",
    "    b, a = butter(order, normal_cutoff, btype='high', analog=False)\n",
    "    return b, a\n",
    "\n",
    "def butter_highpass_filter(data, cutoff, fs, order=5):\n",
    "    # applies a highpass filter\n",
    "    b, a = butter_highpass(cutoff, fs, order=order)\n",
    "    y = lfilter(b, a, data)\n",
    "    return y\n",
    "\n",
    "\n",
    "# Filter requirements.\n",
    "order = 6\n",
    "fs = 52.0       # sample rate, Hz\n",
    "cutoff = 2.     # desired cutoff frequency of the filter, Hz\n",
    "\n",
    "# Get the filter coefficients so we can check its frequency response.\n",
    "b, a = butter_lowpass(cutoff, fs, order)\n",
    "\n",
    "# Plot the frequency response.\n",
    "w, h = freqz(b, a, worN=8000)\n",
    "plt.plot(0.5*fs*w/np.pi, np.abs(h))\n",
    "plt.plot(cutoff, 0.5*np.sqrt(2), 'ko')\n",
    "plt.axvline(cutoff, color='k')\n",
    "plt.xlim(0, 5)\n",
    "plt.title(\"Lowpass Filter Frequency Response\")\n",
    "plt.xlabel('Frequency [Hz]')"
   ]
  },
  {
   "cell_type": "code",
   "execution_count": 10,
   "metadata": {
    "collapsed": false
   },
   "outputs": [
    {
     "data": {
      "text/plain": [
       "(1900, 2300)"
      ]
     },
     "execution_count": 10,
     "metadata": {},
     "output_type": "execute_result"
    },
    {
     "data": {
      "image/png": "[encoded data removed]",
      "text/plain": [
       "<matplotlib.figure.Figure at 0x108cbcb90>"
      ]
     },
     "metadata": {},
     "output_type": "display_data"
    }
   ],
   "source": [
    "# test the filter on a sample of the dataset\n",
    "filter_test_data = data[data['target'] == 2]['z']\n",
    "filter_test_x = xrange(len(filter_test_data))\n",
    "filter_test_y = butter_lowpass_filter(filter_test_data, cutoff, fs, order)\n",
    "plt.plot(filter_test_x, filter_test_data, linewidth=1, label='data')\n",
    "plt.plot(filter_test_x, filter_test_y, linewidth=2, label='filtered data')\n",
    "plt.xlabel('t')\n",
    "plt.legend(loc='upper left')\n",
    "plt.xlim(0, len(filter_test_data))\n",
    "plt.ylim(1900, 2300)"
   ]
  },
  {
   "cell_type": "markdown",
   "metadata": {},
   "source": [
    "The filter behavior is a bit suspect at the left-tail. I've tested it on some constructed signals and it seems to work ok on them. My guess is that the filter must always start at the origin, so the fact that the data are not centered at zero causes this weird behavior at the beginning of the series."
   ]
  },
  {
   "cell_type": "code",
   "execution_count": 11,
   "metadata": {
    "collapsed": true
   },
   "outputs": [],
   "source": [
    "# apply the filters\n",
    "for c in ['x', 'y', 'z', 'm']:\n",
    "    data[c+'l'] = butter_lowpass_filter(data[c], cutoff, fs, order)\n",
    "    data[c+'h'] = butter_highpass_filter(data[c], cutoff, fs, order)"
   ]
  },
  {
   "cell_type": "markdown",
   "metadata": {},
   "source": [
    "## Feature Extraction\n",
    "\n",
    "I extracted features by windowing the series, creating 208 windows, each of a quarter second of data. Windows overlap adjacent windows, sharing 50% of its data with each. I extracted the following features from each window, for each time-series: root mean square value (RMS), mean of the minmax sums, mean, and standard deviation. This left me with 48 features.\n",
    "\n",
    "### RMS\n",
    "\n",
    "This is calculated by taking the square root of the average of the squares of the series.\n",
    "\n",
    "### Minmax sums\n",
    "\n",
    "This is calculated by finding the differences between each min and max in the series, then averaging these values."
   ]
  },
  {
   "cell_type": "code",
   "execution_count": 12,
   "metadata": {
    "collapsed": false
   },
   "outputs": [],
   "source": [
    "from scipy.signal import argrelmin, argrelmax\n",
    "\n",
    "def rms(series):\n",
    "    # returns root mean square value of a series\n",
    "    return np.sqrt((series**2).mean())\n",
    "\n",
    "\n",
    "def min_max_mean(series):\n",
    "    # returns the average of the differences between local mins/maxs\n",
    "    mins = argrelmin(series)[0]    # indices of the local minima\n",
    "    maxs = argrelmax(series)[0]    # local maxima\n",
    "    min_max_sum = 0\n",
    "    # build the sums, then take the average\n",
    "    if len(mins) <= len(maxs):\n",
    "        for j, arg in enumerate(mins):\n",
    "            min_max_sum += series[maxs[j]] - series[arg]\n",
    "    else:\n",
    "        for j, arg in enumerate(maxs):\n",
    "            min_max_sum += series[arg] - series[mins[j]]\n",
    "    return min_max_sum/float(min(len(mins), len(maxs)))\n",
    "\n",
    "\n",
    "def extract_features(data, y, num_windows):\n",
    "    window_len = len(data)/(num_windows/2)\n",
    "    i = 0    # initialize index\n",
    "    features = []\n",
    "    targets = []\n",
    "    \n",
    "    for n in range(num_windows):\n",
    "        # isolate window\n",
    "        win = data[i:i+window_len]\n",
    "        \n",
    "        # extract target\n",
    "        target = int(y[i:i+window_len].mode())\n",
    "        targets.append(target)\n",
    "        \n",
    "        for c in data.columns:\n",
    "            # extract features for each series\n",
    "            s = np.array(win[c])\n",
    "            rms_val = rms(s)\n",
    "            min_max = min_max_mean(s)\n",
    "            mean = s.mean()\n",
    "            std = s.std()\n",
    "            new_features = [rms_val, min_max, mean, std]\n",
    "            features.append(new_features)\n",
    "        # update index\n",
    "        i += window_len/2\n",
    "    features = np.array(features)\n",
    "    features.shape = num_windows, 48\n",
    "    targets = np.array(targets)\n",
    "    return features, targets"
   ]
  },
  {
   "cell_type": "code",
   "execution_count": 13,
   "metadata": {
    "collapsed": false
   },
   "outputs": [],
   "source": [
    "features = data.drop(['sample', 'target'], axis=1)\n",
    "targets = data['target']\n",
    "\n",
    "X, y = extract_features(features, targets, 208)"
   ]
  },
  {
   "cell_type": "markdown",
   "metadata": {},
   "source": [
    "## Model building and evaluation\n",
    "\n",
    "The null classifier predicts the majority class for every data point. I used this as a starting point."
   ]
  },
  {
   "cell_type": "code",
   "execution_count": 14,
   "metadata": {
    "collapsed": true
   },
   "outputs": [],
   "source": [
    "from sklearn.cross_validation import train_test_split, cross_val_score\n",
    "\n",
    "# train-test split\n",
    "X_train, X_test, y_train, y_test = train_test_split(X, y, test_size = .3, random_state=1)"
   ]
  },
  {
   "cell_type": "code",
   "execution_count": 15,
   "metadata": {
    "collapsed": false
   },
   "outputs": [
    {
     "name": "stdout",
     "output_type": "stream",
     "text": [
      "0.492063492063\n"
     ]
    }
   ],
   "source": [
    "# majority class prediction\n",
    "from collections import Counter\n",
    "\n",
    "label_counts = Counter(y_test)\n",
    "null = label_counts.most_common()[0][1]/float(len(y_test))\n",
    "print null"
   ]
  },
  {
   "cell_type": "code",
   "execution_count": 16,
   "metadata": {
    "collapsed": true
   },
   "outputs": [],
   "source": [
    "import sklearn.metrics as met\n",
    "\n",
    "# helper function to quickly build different models\n",
    "def model_build(model):\n",
    "    model.fit(X_train, y_train)\n",
    "    return model\n",
    "\n",
    "# helper function to handle evaluation\n",
    "def model_eval(model):\n",
    "    pred = model.predict(X_test)\n",
    "    print 'Accuracy:\\n-----------------------------'\n",
    "    print met.accuracy_score(y_test, pred)\n",
    "    print '\\nConfusion Matrix:\\n-----------------------------'\n",
    "    print met.confusion_matrix(y_test, pred)\n",
    "    print '\\nClassification Report:\\n-----------------------------'\n",
    "    print met.classification_report(y_test, pred)"
   ]
  },
  {
   "cell_type": "markdown",
   "metadata": {},
   "source": [
    "After testing numerous models and tuning parameters through [GridSearchCV](http://scikit-learn.org/stable/modules/generated/sklearn.grid_search.GridSearchCV.html#sklearn.grid_search.GridSearchCV), K-nearest Neighbors and Random Forest came out on top in terms of classification accuracy. Models are blended using a simple voting classifier. One big issue with this data set is class imbalance. Smaller classes like class 2 and class 6 suffer from low recall. Class 3 indicates transitions between activites, which may be why it was classified less than perfectly.\n",
    "\n",
    "## Evaluation Results"
   ]
  },
  {
   "cell_type": "code",
   "execution_count": 17,
   "metadata": {
    "collapsed": false
   },
   "outputs": [
    {
     "name": "stdout",
     "output_type": "stream",
     "text": [
      "Accuracy:\n",
      "-----------------------------\n",
      "0.873015873016\n",
      "\n",
      "Confusion Matrix:\n",
      "-----------------------------\n",
      "[[16  0  0  0  0  0]\n",
      " [ 0  1  0  0  0  4]\n",
      " [ 0  0  9  0  0  0]\n",
      " [ 0  0  0  1  0  0]\n",
      " [ 0  0  1  0  0  0]\n",
      " [ 2  1  0  0  0 28]]\n",
      "\n",
      "Classification Report:\n",
      "-----------------------------\n",
      "             precision    recall  f1-score   support\n",
      "\n",
      "          1       0.89      1.00      0.94        16\n",
      "          3       0.50      0.20      0.29         5\n",
      "          4       0.90      1.00      0.95         9\n",
      "          5       1.00      1.00      1.00         1\n",
      "          6       0.00      0.00      0.00         1\n",
      "          7       0.88      0.90      0.89        31\n",
      "\n",
      "avg / total       0.84      0.87      0.85        63\n",
      "\n"
     ]
    },
    {
     "name": "stderr",
     "output_type": "stream",
     "text": [
      "//anaconda/envs/py27/lib/python2.7/site-packages/sklearn/metrics/classification.py:1074: UndefinedMetricWarning: Precision and F-score are ill-defined and being set to 0.0 in labels with no predicted samples.\n",
      "  'precision', 'predicted', average, warn_for)\n"
     ]
    }
   ],
   "source": [
    "# K-Nearest Neighbors\n",
    "from sklearn.neighbors import KNeighborsClassifier\n",
    "\n",
    "knn = model_build(KNeighborsClassifier())\n",
    "model_eval(knn)"
   ]
  },
  {
   "cell_type": "code",
   "execution_count": 18,
   "metadata": {
    "collapsed": false
   },
   "outputs": [
    {
     "name": "stdout",
     "output_type": "stream",
     "text": [
      "Accuracy:\n",
      "-----------------------------\n",
      "0.920634920635\n",
      "\n",
      "Confusion Matrix:\n",
      "-----------------------------\n",
      "[[16  0  0  0  0  0]\n",
      " [ 0  2  0  0  0  3]\n",
      " [ 0  0  9  0  0  0]\n",
      " [ 0  0  0  1  0  0]\n",
      " [ 0  0  1  0  0  0]\n",
      " [ 0  1  0  0  0 30]]\n",
      "\n",
      "Classification Report:\n",
      "-----------------------------\n",
      "             precision    recall  f1-score   support\n",
      "\n",
      "          1       1.00      1.00      1.00        16\n",
      "          3       0.67      0.40      0.50         5\n",
      "          4       0.90      1.00      0.95         9\n",
      "          5       1.00      1.00      1.00         1\n",
      "          6       0.00      0.00      0.00         1\n",
      "          7       0.91      0.97      0.94        31\n",
      "\n",
      "avg / total       0.90      0.92      0.91        63\n",
      "\n"
     ]
    }
   ],
   "source": [
    "# Random Forest\n",
    "from sklearn.ensemble import RandomForestClassifier\n",
    "\n",
    "rfc = model_build(RandomForestClassifier(n_estimators=20))\n",
    "model_eval(rfc)"
   ]
  },
  {
   "cell_type": "code",
   "execution_count": 19,
   "metadata": {
    "collapsed": false
   },
   "outputs": [
    {
     "name": "stdout",
     "output_type": "stream",
     "text": [
      "Accuracy:\n",
      "-----------------------------\n",
      "0.904761904762\n",
      "\n",
      "Confusion Matrix:\n",
      "-----------------------------\n",
      "[[16  0  0  0  0  0]\n",
      " [ 0  3  0  0  0  2]\n",
      " [ 0  0  9  0  0  0]\n",
      " [ 0  0  0  1  0  0]\n",
      " [ 0  0  1  0  0  0]\n",
      " [ 2  1  0  0  0 28]]\n",
      "\n",
      "Classification Report:\n",
      "-----------------------------\n",
      "             precision    recall  f1-score   support\n",
      "\n",
      "          1       0.89      1.00      0.94        16\n",
      "          3       0.75      0.60      0.67         5\n",
      "          4       0.90      1.00      0.95         9\n",
      "          5       1.00      1.00      1.00         1\n",
      "          6       0.00      0.00      0.00         1\n",
      "          7       0.93      0.90      0.92        31\n",
      "\n",
      "avg / total       0.89      0.90      0.89        63\n",
      "\n"
     ]
    }
   ],
   "source": [
    "# Blending the models by voting\n",
    "from sklearn.ensemble import VotingClassifier\n",
    "\n",
    "vote = model_build(VotingClassifier(estimators=[('rf', rfc), ('knn', knn)]))\n",
    "model_eval(vote)"
   ]
  },
  {
   "cell_type": "code",
   "execution_count": 20,
   "metadata": {
    "collapsed": false
   },
   "outputs": [
    {
     "name": "stdout",
     "output_type": "stream",
     "text": [
      "Accuracy:\n",
      "-----------------------------\n",
      "0.873015873016\n",
      "\n",
      "Confusion Matrix:\n",
      "-----------------------------\n",
      "[[16  0  0  0  0  0]\n",
      " [ 0  0  0  0  0  5]\n",
      " [ 0  0  9  0  0  0]\n",
      " [ 0  0  0  1  0  0]\n",
      " [ 0  0  1  0  0  0]\n",
      " [ 2  0  0  0  0 29]]\n",
      "\n",
      "Classification Report:\n",
      "-----------------------------\n",
      "             precision    recall  f1-score   support\n",
      "\n",
      "          1       0.89      1.00      0.94        16\n",
      "          3       0.00      0.00      0.00         5\n",
      "          4       0.90      1.00      0.95         9\n",
      "          5       1.00      1.00      1.00         1\n",
      "          6       0.00      0.00      0.00         1\n",
      "          7       0.85      0.94      0.89        31\n",
      "\n",
      "avg / total       0.79      0.87      0.83        63\n",
      "\n"
     ]
    }
   ],
   "source": [
    "# Random Forest with weighted classes\n",
    "\n",
    "rfc_bal = model_build(RandomForestClassifier(n_estimators=20, class_weight='balanced'))\n",
    "model_eval(rfc_bal)"
   ]
  },
  {
   "cell_type": "markdown",
   "metadata": {},
   "source": [
    "## Conclusions and next steps\n",
    "\n",
    "This approach ended up being quite successfull: much better than the null(~49%), and better than attempting to classify the raw data (~85%, based upon an earlier attempt at this problem). My results were slightly worse than those in the paper that I used as my guide. They were getting around 94% accuracy, and mine is around 92%. However, they extracted almost 400 features and I acheived similar results with only 48. If needed, the next few percentage points could be squeezed out with some additional feature extraction.\n",
    "\n",
    "The dataset is highly imbalanced, and there's generally not enough data for certain classes. Gathering additional training data in a more balanced fashion could greatly improve the models. The Casale and Redeva paper mentions microphone and video data as interesting features that could be captured and lead to better model performance. I think that microphone data in particular would be usefull in differentiating talking, walking, and being still.\n",
    "\n",
    "Another interesting problem that could be investigated using this dataset is trying to identify a specific person given a sample of data.\n",
    "\n",
    "## References\n",
    "\n",
    "* Casale, P. Pujol, O. and Radeva, P. \n",
    "'Personalization and user verification in wearable systems using biometric walking patterns' \n",
    "Personal and Ubiquitous Computing, 16(5), 563-580, 2012\n",
    "\n",
    "* Casale, P. Pujol, O. and Radeva, P. \n",
    "  \"BeaStreamer-v0.1: a new platform for Multi-Sensors Data Acquisition in Wearable Computing Applications\", \n",
    "   CVCRD09, ISBN: 978-84-937261-1-9, 2009\n",
    "   available on https://www.researchgate.net/publication/257132489_BeaStreamer-v0.1_a_new_platform_for_Multi-Sensors_Data_Acquisition_in_Wearable_Computing_Applications?ev=prf_pub"
   ]
  }
 ],
 "metadata": {
  "kernelspec": {
   "display_name": "Python 2",
   "language": "python",
   "name": "python2"
  },
  "language_info": {
   "codemirror_mode": {
    "name": "ipython",
    "version": 2
   },
   "file_extension": ".py",
   "mimetype": "text/x-python",
   "name": "python",
   "nbconvert_exporter": "python",
   "pygments_lexer": "ipython2",
   "version": "2.7.12"
  },
  "nikola": {
   "category": "",
   "date": "2016-04-26 21:05:30 UTC+08:00",
   "description": "",
   "link": "",
   "slug": "predicting-activities-from-accelerometer-data",
   "tags": "",
   "title": "Predicting Activities from Accelerometer Data",
   "type": "text"
  }
 },
 "nbformat": 4,
 "nbformat_minor": 0
}

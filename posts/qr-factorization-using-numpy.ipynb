{
 "cells": [
  {
   "cell_type": "markdown",
   "metadata": {},
   "source": [
    "# QR factorization - a Numpy implementation"
   ]
  },
  {
   "cell_type": "markdown",
   "metadata": {},
   "source": [
    "QR factorization factorizes a matrix **A** into an orthonormal matrix **Q** and a triangular matrix **R**.\n",
    "\n",
    "$$\\textbf{Q}\\textbf{R}=\\textbf{A}$$\n",
    "\n",
    "<!-- TEASER_END -->\n",
    "\n",
    "This factorization can be used to solve matrix equations or to solve the least squares problem. Numpy already has a QR function (np.linalg.qr), but this is a way to cement my own understanding of the concepts.\n",
    "\n",
    "The matrix **Q** is created by orthonormalizing the original matrix **A**. To do this, first orthogonalize the columns of **A**, then divide each column-vector by it's norm.\n",
    "\n",
    "In order to do this, it's necessary project one vector orthogonally to another, i.e. extract the part of one vector that is at a right angle to another. The projections of vector **b** parallel and orthogonal to vector **v** are given by:\n",
    "\n",
    "$$\\boldsymbol{b}=\\boldsymbol{b}^{\\parallel \\boldsymbol{v}}+\\boldsymbol{b}^{\\bot \\boldsymbol{v}}$$\n",
    "\n",
    "The parallel projection takes two steps. First, find a value for the scalar sigma. Then, scale vector **v** by sigma.\n",
    "\n",
    "$$\\sigma =\\dfrac{\\langle \\boldsymbol{b},\\boldsymbol{v}\\rangle}{\\langle \\boldsymbol{v}, \\boldsymbol{v}\\rangle}$$\n",
    "\n",
    "$$\\boldsymbol{b}^{\\parallel \\boldsymbol{v}}=\\sigma \\boldsymbol{v}$$"
   ]
  },
  {
   "cell_type": "code",
   "execution_count": 4,
   "metadata": {
    "collapsed": true
   },
   "outputs": [],
   "source": [
    "import numpy as np\n",
    "import math\n",
    "\n",
    "def project_parallel(b, v, epsilon= 1e-15):\n",
    "    '''\n",
    "    Projection of b along v\n",
    "    \n",
    "    Inputs:\n",
    "        - b: 1-d array\n",
    "        - v: 1-d array\n",
    "        - epsilon: threshold for filling 0 for squared norms\n",
    "    \n",
    "    Output:\n",
    "        - 1-d array: the projection of b parallel to v\n",
    "    '''\n",
    "    sigma = (np.dot(b,v)/np.dot(v,v)) if np.dot(v,v) > epsilon else 0\n",
    "    return (sigma*v)"
   ]
  },
  {
   "cell_type": "markdown",
   "metadata": {},
   "source": [
    "Now the orthogonal projection is simple: subtract the parallel component of **b** from the original vector **b**. This be done iteratively to orthogonalize **b** to a list of vectors."
   ]
  },
  {
   "cell_type": "code",
   "execution_count": 5,
   "metadata": {
    "collapsed": false
   },
   "outputs": [],
   "source": [
    "def project_orthogonal(b, A):\n",
    "    '''\n",
    "    Project b orthogonal to row vectors of A\n",
    "\n",
    "    Inputs:\n",
    "        - b: 1-d array\n",
    "        - A: 2-d array\n",
    "\n",
    "    Output: the projection of b orthogonal to the row vectors of A\n",
    "    '''\n",
    "    for v in A:\n",
    "        b = b - project_parallel(b, v)\n",
    "    return b"
   ]
  },
  {
   "cell_type": "markdown",
   "metadata": {},
   "source": [
    "A quick test to see it in action."
   ]
  },
  {
   "cell_type": "code",
   "execution_count": 6,
   "metadata": {
    "collapsed": false
   },
   "outputs": [
    {
     "name": "stdout",
     "output_type": "stream",
     "text": [
      "[[1 0 0]\n",
      " [0 1 0]] \n",
      "\n",
      "[1 1 1]\n"
     ]
    },
    {
     "data": {
      "text/plain": [
       "array([ 0.,  0.,  1.])"
      ]
     },
     "execution_count": 6,
     "metadata": {},
     "output_type": "execute_result"
    }
   ],
   "source": [
    "A = np.array([[1, 0, 0], [0, 1, 0]])\n",
    "print (A, '\\n')\n",
    "b = np.array([1, 1, 1])\n",
    "print (b)\n",
    "project_orthogonal(b, A)"
   ]
  },
  {
   "cell_type": "markdown",
   "metadata": {},
   "source": [
    "A set of vectors can now be orthogonalized by iterating through each one, projecting it orthogonally to an previously orthogonalized vectors. The first vector will be unchanged, the second vector will be projected orthogonally to vector 1, the third vector will be projected orthogonally to vector 1 and the orthogonalized vector 2, etc."
   ]
  },
  {
   "cell_type": "code",
   "execution_count": 7,
   "metadata": {
    "collapsed": true
   },
   "outputs": [],
   "source": [
    "def orthogonalize(A):\n",
    "    '''\n",
    "    Orthogonalizes the row vectors of A.\n",
    "    Row i of the output matrix is the projection of row i of the input\n",
    "    matrix orthogonal to the space spanned by all previous rows in the \n",
    "    input matrix.\n",
    "    \n",
    "    Input: 2-d array\n",
    "    \n",
    "    Output: 2-d array of mutually orthogonal row vectors spanning the\n",
    "            same space as the original row space'''\n",
    "    \n",
    "    orth_list = np.zeros(A.size)\n",
    "    orth_list.shape = A.shape\n",
    "    for i, v in enumerate(A):\n",
    "        orth_list[i] = (project_orthogonal(v, orth_list))\n",
    "    return orth_list"
   ]
  },
  {
   "cell_type": "code",
   "execution_count": 8,
   "metadata": {
    "collapsed": false
   },
   "outputs": [
    {
     "data": {
      "text/plain": [
       "array([[ 8., -2.,  2.],\n",
       "       [ 0.,  3.,  3.]])"
      ]
     },
     "execution_count": 8,
     "metadata": {},
     "output_type": "execute_result"
    }
   ],
   "source": [
    "A = np.array([[8, -2, 2], [4, 2, 4]])\n",
    "orthogonalize(A)"
   ]
  },
  {
   "cell_type": "markdown",
   "metadata": {},
   "source": [
    "Now that the vectors are mutually orthogonal, they can be normalized by scaling each by 1/norm. The norm of a vector is given by:\n",
    "$$\\left\\| \\boldsymbol{v} \\right\\|=\\sqrt {\\langle \\boldsymbol{v}, \\boldsymbol{v}\\rangle}$$"
   ]
  },
  {
   "cell_type": "code",
   "execution_count": 9,
   "metadata": {
    "collapsed": false
   },
   "outputs": [],
   "source": [
    "def orthonormalize(A):\n",
    "    '''\n",
    "    Orthonormalizes the row vectors of A\n",
    "    \n",
    "    Input: 2-d array\n",
    "    \n",
    "    Output: 2-d array of orthonormalized vectors\n",
    "    '''\n",
    "    return np.stack([v/math.sqrt(sum(v**2)) for v in orthogonalize(A)])"
   ]
  },
  {
   "cell_type": "code",
   "execution_count": 10,
   "metadata": {
    "collapsed": false
   },
   "outputs": [
    {
     "data": {
      "text/plain": [
       "array([[ 0.94280904, -0.23570226,  0.23570226],\n",
       "       [ 0.        ,  0.70710678,  0.70710678]])"
      ]
     },
     "execution_count": 10,
     "metadata": {},
     "output_type": "execute_result"
    }
   ],
   "source": [
    "orthonormalize(A)"
   ]
  },
  {
   "cell_type": "markdown",
   "metadata": {},
   "source": [
    "The groundwork has been layed to calculate **Q**, but there's still the question of how to calculate **R**. It turns out that there's a pretty simple way to do this. **Q** is an orthonormal matrix, and thus has the property:\n",
    "$$\\textbf{Q}^{-1}=\\textbf{Q}^{T}$$\n",
    "\n",
    "therefore:\n",
    "\n",
    "$$\\textbf{R}=\\textbf{Q}^{T}\\textbf{A}$$"
   ]
  },
  {
   "cell_type": "code",
   "execution_count": 21,
   "metadata": {
    "collapsed": true
   },
   "outputs": [],
   "source": [
    "def QR_factorize(A):\n",
    "    '''\n",
    "    Factorizes A into orthonormal matrix Q and triangular matrix R\n",
    "    \n",
    "    Input: a 2-d array with linearly independent columns\n",
    "    \n",
    "    Outputs:\n",
    "        Q = a matrix of orthonormal colum vectors that span the same column\n",
    "            space as the input\n",
    "        R = a triangualr matrix of vectors such that Q*R = A\n",
    "    '''\n",
    "    Q = orthonormalize(A.T)\n",
    "    R = np.dot(Q, A)\n",
    "    return Q.T, R"
   ]
  },
  {
   "cell_type": "code",
   "execution_count": 30,
   "metadata": {
    "collapsed": false
   },
   "outputs": [
    {
     "name": "stdout",
     "output_type": "stream",
     "text": [
      "Original matrix A:\n",
      "[[ 4  8 10]\n",
      " [ 3  9  1]\n",
      " [ 1 -5 -1]\n",
      " [ 2 -5  5]] \n",
      "\n",
      "Q:\n",
      "[[ 0.73029674  0.18677078  0.5275409 ]\n",
      " [ 0.54772256  0.4027245  -0.6531217 ]\n",
      " [ 0.18257419 -0.56614893 -0.51230873]\n",
      " [ 0.36514837 -0.69455384  0.18075511]] \n",
      "\n",
      "R:\n",
      "[[  5.47722558e+00   8.03326418e+00   9.49385766e+00]\n",
      " [  2.22044605e-16   1.14222006e+01  -6.36187974e-01]\n",
      " [ -2.22044605e-16  -4.44089210e-16   6.03837160e+00]] \n",
      "\n",
      "Q*R\n",
      "[[ 4.  8. 10.]\n",
      " [ 3.  9.  1.]\n",
      " [ 1. -5. -1.]\n",
      " [ 2. -5.  5.]] \n",
      "\n"
     ]
    }
   ],
   "source": [
    "A = np.array([[4, 8, 10], [3, 9, 1], [1, -5, -1], [2, -5, 5]])\n",
    "Q, R = QR_factorize(A)\n",
    "\n",
    "print('Original matrix A:')\n",
    "print(A, '\\n')\n",
    "print('Q:')\n",
    "print(Q, '\\n')\n",
    "print('R:')\n",
    "print(R, '\\n')\n",
    "print('Q*R')\n",
    "print(np.dot(Q, R), '\\n')\n"
   ]
  },
  {
   "cell_type": "markdown",
   "metadata": {},
   "source": [
    "There it is: matrix **A** factorized then recomposed. **Q** is orthonormal and **R** is triangular. Compare the result with the function from Numpy."
   ]
  },
  {
   "cell_type": "code",
   "execution_count": 31,
   "metadata": {
    "collapsed": false
   },
   "outputs": [
    {
     "name": "stdout",
     "output_type": "stream",
     "text": [
      "Q:\n",
      "[[-0.73029674 -0.18677078  0.5275409 ]\n",
      " [-0.54772256 -0.4027245  -0.6531217 ]\n",
      " [-0.18257419  0.56614893 -0.51230873]\n",
      " [-0.36514837  0.69455384  0.18075511]] \n",
      "\n",
      "R:\n",
      "[[ -5.47722558  -8.03326418  -9.49385766]\n",
      " [  0.         -11.42220061   0.63618797]\n",
      " [  0.           0.           6.0383716 ]] \n",
      "\n",
      "Q*R\n",
      "[[  4.   8.  10.]\n",
      " [  3.   9.   1.]\n",
      " [  1.  -5.  -1.]\n",
      " [  2.  -5.   5.]] \n",
      "\n"
     ]
    }
   ],
   "source": [
    "Q, R = np.linalg.qr(A)\n",
    "print('Q:')\n",
    "print(Q, '\\n')\n",
    "print('R:')\n",
    "print(R, '\\n')\n",
    "print('Q*R')\n",
    "print(np.dot(Q, R), '\\n')"
   ]
  },
  {
   "cell_type": "markdown",
   "metadata": {},
   "source": [
    "The **Q**s and **R**s are slightly different, but both are correct factorizations. What about speed?"
   ]
  },
  {
   "cell_type": "code",
   "execution_count": 26,
   "metadata": {
    "collapsed": true
   },
   "outputs": [],
   "source": [
    "A = np.random.rand(1000, 1000)"
   ]
  },
  {
   "cell_type": "code",
   "execution_count": 27,
   "metadata": {
    "collapsed": false
   },
   "outputs": [
    {
     "name": "stdout",
     "output_type": "stream",
     "text": [
      "CPU times: user 12.8 s, sys: 64.6 ms, total: 12.9 s\n",
      "Wall time: 16.7 s\n"
     ]
    }
   ],
   "source": [
    "%%time\n",
    "Q, R = QR_factorize(A)"
   ]
  },
  {
   "cell_type": "code",
   "execution_count": 28,
   "metadata": {
    "collapsed": false
   },
   "outputs": [
    {
     "name": "stdout",
     "output_type": "stream",
     "text": [
      "CPU times: user 381 ms, sys: 41.9 ms, total: 423 ms\n",
      "Wall time: 337 ms\n"
     ]
    }
   ],
   "source": [
    "%%time\n",
    "Q, R = np.linalg.qr(A)"
   ]
  },
  {
   "cell_type": "markdown",
   "metadata": {},
   "source": [
    "My version is much, much slower, and I would use numpy in practice, but now I have a better understanding of how QR factorization works."
   ]
  }
 ],
 "metadata": {
  "kernelspec": {
   "display_name": "Python 3",
   "language": "python",
   "name": "python3"
  },
  "language_info": {
   "codemirror_mode": {
    "name": "ipython",
    "version": 3
   },
   "file_extension": ".py",
   "mimetype": "text/x-python",
   "name": "python",
   "nbconvert_exporter": "python",
   "pygments_lexer": "ipython3",
   "version": "3.5.1"
  },
  "nikola": {
   "category": "",
   "date": "2016-03-08 10:05:02 UTC+08:00",
   "description": "",
   "link": "",
   "slug": "qr-factorization-using-numpy",
   "tags": "python, linear algebra",
   "title": "QR factorization using numpy",
   "type": "text"
  }
 },
 "nbformat": 4,
 "nbformat_minor": 0
}

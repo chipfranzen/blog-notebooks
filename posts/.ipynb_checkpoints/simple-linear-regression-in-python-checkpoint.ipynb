{
 "cells": [
  {
   "cell_type": "markdown",
   "metadata": {},
   "source": [
    "# Simple Linear Regression- Closed Form\n",
    "\n",
    "A Simple Linear Regression fits a line to data points with two dimensions. It does this by defining and then minimizing a cost function. One of the most common methods used is ordinary least squares (OLS), which minimizes the square of the residuals of a line plotted against the data points.\n",
    "\n",
    "<!-- TEASER_END -->"
   ]
  },
  {
   "cell_type": "markdown",
   "metadata": {},
   "source": [
    "The line of a linear regression is given by the formula, with intercept $$w_{0}$$ and slope $$w_{1}$$\n",
    "\n",
    "$$y=w_{0}+w_{1}x$$\n",
    "\n",
    "In the case of simple linear regression, these coefficients can be measured by taking the partial derivatives of the cost function with respect to each coefficien, setting them to zero, doing a little algebra to separate the terms, and calculating each coefficient. The full derivation can be found at [wikipedia](https://en.wikipedia.org/wiki/Simple_linear_regression#Derivation_of_simple_regression_estimators).\n",
    "\n",
    "The bottom line is that the closed form solution ends with these two equations:\n",
    "\n",
    "$$\\hat {w}_{0}=\\dfrac {\\sum ^{N}_{i=1}y_{i}}{N}-\\hat {w}_{1}\\dfrac {\\sum ^{N}_{i=1}x_{i}}{N}$$\n",
    "\n",
    "---\n",
    "\n",
    "$$\\hat {w}_{1}=\\dfrac {\\sum ^{N}_{i=1}y_{i}x_{i}-\\dfrac {\\sum ^{N}_{i=1}y_{i}\\sum ^{N}_{i=1}x_{i}}{N}}{\\sum ^{N}_{i=1}x^{2}_{i}-\\dfrac {\\sum ^{N}_{i=1}x_{i}\\sum ^{N}_{i=1}x_{i}}{N}}$$\n",
    "\n",
    "From this point, it's simple to write a python function that calculates the slope and intercept of a simple linear regression."
   ]
  },
  {
   "cell_type": "code",
   "execution_count": 61,
   "metadata": {
    "collapsed": true
   },
   "outputs": [],
   "source": [
    "def simple_linear_regression(X, y):\n",
    "    '''\n",
    "    Returns slope and intercept for a simple regression line\n",
    "    \n",
    "    inputs- Works best with numpy arrays, though other similar data structures will work fine.\n",
    "        X - input data\n",
    "        y - output data\n",
    "        \n",
    "    outputs - floats\n",
    "    '''\n",
    "    # initial sums\n",
    "    n = float(len(X))\n",
    "    sum_x = X.sum()\n",
    "    sum_y = y.sum()\n",
    "    sum_xy = (X*y).sum()\n",
    "    sum_xx = (X**2).sum()\n",
    "    \n",
    "    # formula for w0\n",
    "    slope = (sum_xy - (sum_x*sum_y)/n)/(sum_xx - (sum_x*sum_x)/n)\n",
    "    \n",
    "    # formula for w1\n",
    "    intercept = sum_y/n - slope*(sum_x/n)\n",
    "    \n",
    "    return (intercept, slope)"
   ]
  },
  {
   "cell_type": "markdown",
   "metadata": {},
   "source": [
    "Now let's try it out on some data."
   ]
  },
  {
   "cell_type": "code",
   "execution_count": 84,
   "metadata": {
    "collapsed": false
   },
   "outputs": [],
   "source": [
    "import numpy as np\n",
    "import random\n",
    "import matplotlib.pyplot as plt\n",
    "%matplotlib inline\n",
    "random.seed(199)\n",
    "\n",
    "# generating some test points\n",
    "X = np.array(range(10))\n",
    "y = np.array([random.randint(1, 10) for x in range(10)])"
   ]
  },
  {
   "cell_type": "markdown",
   "metadata": {},
   "source": [
    "A convenient way to check the fit is to make predictions across the range of the input data, then plot them against the original data."
   ]
  },
  {
   "cell_type": "code",
   "execution_count": 85,
   "metadata": {
    "collapsed": false
   },
   "outputs": [
    {
     "name": "stdout",
     "output_type": "stream",
     "text": [
      "Intercept: 3.60, Slope: 0.27\n"
     ]
    }
   ],
   "source": [
    "intercept, slope = simple_linear_regression(X, y)\n",
    "\n",
    "print 'Intercept: %.2f, Slope: %.2f' % (intercept, slope)"
   ]
  },
  {
   "cell_type": "code",
   "execution_count": 86,
   "metadata": {
    "collapsed": false
   },
   "outputs": [
    {
     "data": {
      "text/plain": [
       "[<matplotlib.lines.Line2D at 0x107ed97d0>,\n",
       " <matplotlib.lines.Line2D at 0x107ed9a50>]"
      ]
     },
     "execution_count": 86,
     "metadata": {},
     "output_type": "execute_result"
    },
    {
     "data": {
      "image/png": "[encoded data removed]",
      "text/plain": [
       "<matplotlib.figure.Figure at 0x107f2b0d0>"
      ]
     },
     "metadata": {},
     "output_type": "display_data"
    }
   ],
   "source": [
    "def reg_predictions(X, intercept, slope): \n",
    "    return ((slope*X) + intercept)\n",
    "\n",
    "line_x = np.array([x/10. for x in range(100)])\n",
    "line_y = reg_predictions(line_x, intercept, slope)\n",
    "plt.plot(X, y, '*', line_x, line_y, '-')"
   ]
  },
  {
   "cell_type": "markdown",
   "metadata": {},
   "source": [
    "The fit isn't very good, as expected for random data, but at least we can see the function in action. "
   ]
  }
 ],
 "metadata": {
  "kernelspec": {
   "display_name": "Python 2",
   "language": "python",
   "name": "python2"
  },
  "language_info": {
   "codemirror_mode": {
    "name": "ipython",
    "version": 2
   },
   "file_extension": ".py",
   "mimetype": "text/x-python",
   "name": "python",
   "nbconvert_exporter": "python",
   "pygments_lexer": "ipython2",
   "version": "2.7.11"
  },
  "nikola": {
   "category": "",
   "date": "2016-01-02 11:28:52 UTC+08:00",
   "description": "",
   "link": "",
   "slug": "simple-linear-regression-in-python",
   "tags": "python, statistics, regression",
   "title": "Simple Linear Regression in Python",
   "type": "text"
  }
 },
 "nbformat": 4,
 "nbformat_minor": 0
}

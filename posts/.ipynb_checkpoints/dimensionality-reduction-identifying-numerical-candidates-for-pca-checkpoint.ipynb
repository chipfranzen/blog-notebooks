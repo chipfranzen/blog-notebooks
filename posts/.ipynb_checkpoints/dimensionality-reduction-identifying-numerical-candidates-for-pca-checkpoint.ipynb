{
 "cells": [
  {
   "cell_type": "markdown",
   "metadata": {},
   "source": [
    "# IDing numerical candidates for PCA\n",
    "\n",
    "PCA is a powerful way to reduce dimensionality by extracting principal axes of variation from multiple variables. Once highly correlated variables are identified, the largest principal components can be extracted and the smallest discarded.\n",
    "\n",
    "<!-- TEASER_END -->\n",
    "\n",
    "One challenge for data analysts is finding which variables are highly correlated. Here's a way to do it in python, using numpy and pandas."
   ]
  },
  {
   "cell_type": "code",
   "execution_count": 116,
   "metadata": {
    "collapsed": false
   },
   "outputs": [],
   "source": [
    "import numpy as np\n",
    "import pandas as pd"
   ]
  },
  {
   "cell_type": "code",
   "execution_count": 100,
   "metadata": {
    "collapsed": false
   },
   "outputs": [],
   "source": [
    "# set up a toy dataset with 10 variables\n",
    "r = 10\n",
    "c = 10\n",
    "np.random.seed([0])\n",
    "toy_set = np.random.rand(r, c)\n",
    "column_labels = ['v'+str(i) for i in range(1, c+1)]\n",
    "toy_df = pd.DataFrame(toy_set, columns=column_labels)"
   ]
  },
  {
   "cell_type": "code",
   "execution_count": 101,
   "metadata": {
    "collapsed": false
   },
   "outputs": [
    {
     "data": {
      "text/html": [
       "<div>\n",
       "<table border=\"1\" class=\"dataframe\">\n",
       "  <thead>\n",
       "    <tr style=\"text-align: right;\">\n",
       "      <th></th>\n",
       "      <th>v1</th>\n",
       "      <th>v2</th>\n",
       "      <th>v3</th>\n",
       "      <th>v4</th>\n",
       "      <th>v5</th>\n",
       "      <th>v6</th>\n",
       "      <th>v7</th>\n",
       "      <th>v8</th>\n",
       "      <th>v9</th>\n",
       "      <th>v10</th>\n",
       "    </tr>\n",
       "  </thead>\n",
       "  <tbody>\n",
       "    <tr>\n",
       "      <th>0</th>\n",
       "      <td>0.844422</td>\n",
       "      <td>0.757954</td>\n",
       "      <td>0.420572</td>\n",
       "      <td>0.258917</td>\n",
       "      <td>0.511275</td>\n",
       "      <td>0.404934</td>\n",
       "      <td>0.783799</td>\n",
       "      <td>0.303313</td>\n",
       "      <td>0.476597</td>\n",
       "      <td>0.583382</td>\n",
       "    </tr>\n",
       "    <tr>\n",
       "      <th>1</th>\n",
       "      <td>0.908113</td>\n",
       "      <td>0.504687</td>\n",
       "      <td>0.281838</td>\n",
       "      <td>0.755804</td>\n",
       "      <td>0.618369</td>\n",
       "      <td>0.250506</td>\n",
       "      <td>0.909746</td>\n",
       "      <td>0.982785</td>\n",
       "      <td>0.810217</td>\n",
       "      <td>0.902166</td>\n",
       "    </tr>\n",
       "    <tr>\n",
       "      <th>2</th>\n",
       "      <td>0.310148</td>\n",
       "      <td>0.729832</td>\n",
       "      <td>0.898838</td>\n",
       "      <td>0.683984</td>\n",
       "      <td>0.472143</td>\n",
       "      <td>0.100701</td>\n",
       "      <td>0.434172</td>\n",
       "      <td>0.610887</td>\n",
       "      <td>0.913011</td>\n",
       "      <td>0.966606</td>\n",
       "    </tr>\n",
       "    <tr>\n",
       "      <th>3</th>\n",
       "      <td>0.477010</td>\n",
       "      <td>0.865310</td>\n",
       "      <td>0.260492</td>\n",
       "      <td>0.805028</td>\n",
       "      <td>0.548699</td>\n",
       "      <td>0.014042</td>\n",
       "      <td>0.719705</td>\n",
       "      <td>0.398824</td>\n",
       "      <td>0.824845</td>\n",
       "      <td>0.668153</td>\n",
       "    </tr>\n",
       "    <tr>\n",
       "      <th>4</th>\n",
       "      <td>0.001143</td>\n",
       "      <td>0.493578</td>\n",
       "      <td>0.867603</td>\n",
       "      <td>0.243911</td>\n",
       "      <td>0.325204</td>\n",
       "      <td>0.870471</td>\n",
       "      <td>0.191067</td>\n",
       "      <td>0.567511</td>\n",
       "      <td>0.238616</td>\n",
       "      <td>0.967540</td>\n",
       "    </tr>\n",
       "  </tbody>\n",
       "</table>\n",
       "</div>"
      ],
      "text/plain": [
       "         v1        v2        v3        v4        v5        v6        v7  \\\n",
       "0  0.844422  0.757954  0.420572  0.258917  0.511275  0.404934  0.783799   \n",
       "1  0.908113  0.504687  0.281838  0.755804  0.618369  0.250506  0.909746   \n",
       "2  0.310148  0.729832  0.898838  0.683984  0.472143  0.100701  0.434172   \n",
       "3  0.477010  0.865310  0.260492  0.805028  0.548699  0.014042  0.719705   \n",
       "4  0.001143  0.493578  0.867603  0.243911  0.325204  0.870471  0.191067   \n",
       "\n",
       "         v8        v9       v10  \n",
       "0  0.303313  0.476597  0.583382  \n",
       "1  0.982785  0.810217  0.902166  \n",
       "2  0.610887  0.913011  0.966606  \n",
       "3  0.398824  0.824845  0.668153  \n",
       "4  0.567511  0.238616  0.967540  "
      ]
     },
     "execution_count": 101,
     "metadata": {},
     "output_type": "execute_result"
    }
   ],
   "source": [
    "toy_df.head()"
   ]
  },
  {
   "cell_type": "markdown",
   "metadata": {},
   "source": [
    "Pandas has a method that returns correlation coefficients for a DataFrame (`df.corr()`) but it returns a huge matrix that can be difficult deal with. I think its easier to iterate through each combination and build a two column DataFrame."
   ]
  },
  {
   "cell_type": "code",
   "execution_count": 137,
   "metadata": {
    "collapsed": false,
    "scrolled": true
   },
   "outputs": [
    {
     "data": {
      "text/html": [
       "<div>\n",
       "<table border=\"1\" class=\"dataframe\">\n",
       "  <thead>\n",
       "    <tr style=\"text-align: right;\">\n",
       "      <th></th>\n",
       "      <th>v1</th>\n",
       "      <th>v2</th>\n",
       "      <th>v3</th>\n",
       "      <th>v4</th>\n",
       "      <th>v5</th>\n",
       "      <th>v6</th>\n",
       "      <th>v7</th>\n",
       "      <th>v8</th>\n",
       "      <th>v9</th>\n",
       "      <th>v10</th>\n",
       "    </tr>\n",
       "  </thead>\n",
       "  <tbody>\n",
       "    <tr>\n",
       "      <th>v1</th>\n",
       "      <td>1.000000</td>\n",
       "      <td>0.317837</td>\n",
       "      <td>-0.471922</td>\n",
       "      <td>0.030030</td>\n",
       "      <td>0.711220</td>\n",
       "      <td>0.172376</td>\n",
       "      <td>0.444754</td>\n",
       "      <td>-0.207561</td>\n",
       "      <td>0.129242</td>\n",
       "      <td>-0.681106</td>\n",
       "    </tr>\n",
       "    <tr>\n",
       "      <th>v2</th>\n",
       "      <td>0.317837</td>\n",
       "      <td>1.000000</td>\n",
       "      <td>-0.068083</td>\n",
       "      <td>-0.031912</td>\n",
       "      <td>0.213860</td>\n",
       "      <td>-0.260664</td>\n",
       "      <td>0.232821</td>\n",
       "      <td>-0.239623</td>\n",
       "      <td>0.097666</td>\n",
       "      <td>-0.182455</td>\n",
       "    </tr>\n",
       "    <tr>\n",
       "      <th>v3</th>\n",
       "      <td>-0.471922</td>\n",
       "      <td>-0.068083</td>\n",
       "      <td>1.000000</td>\n",
       "      <td>-0.028233</td>\n",
       "      <td>-0.257406</td>\n",
       "      <td>-0.106317</td>\n",
       "      <td>-0.148948</td>\n",
       "      <td>-0.022415</td>\n",
       "      <td>-0.239249</td>\n",
       "      <td>0.130396</td>\n",
       "    </tr>\n",
       "    <tr>\n",
       "      <th>v4</th>\n",
       "      <td>0.030030</td>\n",
       "      <td>-0.031912</td>\n",
       "      <td>-0.028233</td>\n",
       "      <td>1.000000</td>\n",
       "      <td>0.335170</td>\n",
       "      <td>-0.569691</td>\n",
       "      <td>0.496580</td>\n",
       "      <td>0.098425</td>\n",
       "      <td>0.619628</td>\n",
       "      <td>0.096153</td>\n",
       "    </tr>\n",
       "    <tr>\n",
       "      <th>v5</th>\n",
       "      <td>0.711220</td>\n",
       "      <td>0.213860</td>\n",
       "      <td>-0.257406</td>\n",
       "      <td>0.335170</td>\n",
       "      <td>1.000000</td>\n",
       "      <td>0.198254</td>\n",
       "      <td>0.549044</td>\n",
       "      <td>-0.361900</td>\n",
       "      <td>0.205398</td>\n",
       "      <td>-0.520312</td>\n",
       "    </tr>\n",
       "    <tr>\n",
       "      <th>v6</th>\n",
       "      <td>0.172376</td>\n",
       "      <td>-0.260664</td>\n",
       "      <td>-0.106317</td>\n",
       "      <td>-0.569691</td>\n",
       "      <td>0.198254</td>\n",
       "      <td>1.000000</td>\n",
       "      <td>-0.537242</td>\n",
       "      <td>-0.451787</td>\n",
       "      <td>-0.682344</td>\n",
       "      <td>-0.286444</td>\n",
       "    </tr>\n",
       "    <tr>\n",
       "      <th>v7</th>\n",
       "      <td>0.444754</td>\n",
       "      <td>0.232821</td>\n",
       "      <td>-0.148948</td>\n",
       "      <td>0.496580</td>\n",
       "      <td>0.549044</td>\n",
       "      <td>-0.537242</td>\n",
       "      <td>1.000000</td>\n",
       "      <td>0.109410</td>\n",
       "      <td>0.394690</td>\n",
       "      <td>-0.142269</td>\n",
       "    </tr>\n",
       "    <tr>\n",
       "      <th>v8</th>\n",
       "      <td>-0.207561</td>\n",
       "      <td>-0.239623</td>\n",
       "      <td>-0.022415</td>\n",
       "      <td>0.098425</td>\n",
       "      <td>-0.361900</td>\n",
       "      <td>-0.451787</td>\n",
       "      <td>0.109410</td>\n",
       "      <td>1.000000</td>\n",
       "      <td>0.498102</td>\n",
       "      <td>0.562419</td>\n",
       "    </tr>\n",
       "    <tr>\n",
       "      <th>v9</th>\n",
       "      <td>0.129242</td>\n",
       "      <td>0.097666</td>\n",
       "      <td>-0.239249</td>\n",
       "      <td>0.619628</td>\n",
       "      <td>0.205398</td>\n",
       "      <td>-0.682344</td>\n",
       "      <td>0.394690</td>\n",
       "      <td>0.498102</td>\n",
       "      <td>1.000000</td>\n",
       "      <td>0.123400</td>\n",
       "    </tr>\n",
       "    <tr>\n",
       "      <th>v10</th>\n",
       "      <td>-0.681106</td>\n",
       "      <td>-0.182455</td>\n",
       "      <td>0.130396</td>\n",
       "      <td>0.096153</td>\n",
       "      <td>-0.520312</td>\n",
       "      <td>-0.286444</td>\n",
       "      <td>-0.142269</td>\n",
       "      <td>0.562419</td>\n",
       "      <td>0.123400</td>\n",
       "      <td>1.000000</td>\n",
       "    </tr>\n",
       "  </tbody>\n",
       "</table>\n",
       "</div>"
      ],
      "text/plain": [
       "           v1        v2        v3        v4        v5        v6        v7  \\\n",
       "v1   1.000000  0.317837 -0.471922  0.030030  0.711220  0.172376  0.444754   \n",
       "v2   0.317837  1.000000 -0.068083 -0.031912  0.213860 -0.260664  0.232821   \n",
       "v3  -0.471922 -0.068083  1.000000 -0.028233 -0.257406 -0.106317 -0.148948   \n",
       "v4   0.030030 -0.031912 -0.028233  1.000000  0.335170 -0.569691  0.496580   \n",
       "v5   0.711220  0.213860 -0.257406  0.335170  1.000000  0.198254  0.549044   \n",
       "v6   0.172376 -0.260664 -0.106317 -0.569691  0.198254  1.000000 -0.537242   \n",
       "v7   0.444754  0.232821 -0.148948  0.496580  0.549044 -0.537242  1.000000   \n",
       "v8  -0.207561 -0.239623 -0.022415  0.098425 -0.361900 -0.451787  0.109410   \n",
       "v9   0.129242  0.097666 -0.239249  0.619628  0.205398 -0.682344  0.394690   \n",
       "v10 -0.681106 -0.182455  0.130396  0.096153 -0.520312 -0.286444 -0.142269   \n",
       "\n",
       "           v8        v9       v10  \n",
       "v1  -0.207561  0.129242 -0.681106  \n",
       "v2  -0.239623  0.097666 -0.182455  \n",
       "v3  -0.022415 -0.239249  0.130396  \n",
       "v4   0.098425  0.619628  0.096153  \n",
       "v5  -0.361900  0.205398 -0.520312  \n",
       "v6  -0.451787 -0.682344 -0.286444  \n",
       "v7   0.109410  0.394690 -0.142269  \n",
       "v8   1.000000  0.498102  0.562419  \n",
       "v9   0.498102  1.000000  0.123400  \n",
       "v10  0.562419  0.123400  1.000000  "
      ]
     },
     "execution_count": 137,
     "metadata": {},
     "output_type": "execute_result"
    }
   ],
   "source": [
    "toy_df.corr()"
   ]
  },
  {
   "cell_type": "markdown",
   "metadata": {},
   "source": [
    "It's hard to read this. The individual values are easy to access, however."
   ]
  },
  {
   "cell_type": "code",
   "execution_count": 144,
   "metadata": {
    "collapsed": false
   },
   "outputs": [
    {
     "data": {
      "text/plain": [
       "0.31783677602419358"
      ]
     },
     "execution_count": 144,
     "metadata": {},
     "output_type": "execute_result"
    }
   ],
   "source": [
    "toy_df.corr()['v1']['v2']"
   ]
  },
  {
   "cell_type": "markdown",
   "metadata": {},
   "source": [
    "Ahhh. Much easier to understand.\n",
    "\n",
    "The function below calculates the correlations, iterates through each possible pair of variables, and returns a sorted dataframe to make it easy to id highly correlated variables.\n",
    "\n",
    "[Itertools](https://docs.python.org/2/library/itertools.html#itertools.combinations) is a python library that handles combinations, permutations, etc."
   ]
  },
  {
   "cell_type": "code",
   "execution_count": 155,
   "metadata": {
    "collapsed": true
   },
   "outputs": [],
   "source": [
    "import itertools\n",
    "\n",
    "def corr_df(data):\n",
    "    ''' \n",
    "    input: pandas DataFrame\n",
    "    output: pandas DataFrame listing every possible pair of variables and their corresponding \n",
    "            correlation (rho-squared)\n",
    "    '''\n",
    "    # get column labels\n",
    "    column_labels = data.columns\n",
    "    \n",
    "    # create the initial correlation table\n",
    "    corr_df = data.corr()\n",
    "    \n",
    "    # create a generator that will iterate through all possible pairs of variables\n",
    "    combs = itertools.combinations(column_labels, 2)\n",
    "    \n",
    "    # iterate through each pair, squaring the correlations\n",
    "    corrs = [[comb, corr_df[comb[0]][comb[1]]**2] for comb in combs]\n",
    "    \n",
    "    # return a DataFrame of the correlations, sorted high-to-low\n",
    "    return pd.DataFrame(corrs, columns=['Comb', 'R^2']).sort_values('R^2', ascending=False)"
   ]
  },
  {
   "cell_type": "markdown",
   "metadata": {},
   "source": [
    "Let's check it out on the toy set."
   ]
  },
  {
   "cell_type": "code",
   "execution_count": 156,
   "metadata": {
    "collapsed": false
   },
   "outputs": [
    {
     "data": {
      "text/html": [
       "<div>\n",
       "<table border=\"1\" class=\"dataframe\">\n",
       "  <thead>\n",
       "    <tr style=\"text-align: right;\">\n",
       "      <th></th>\n",
       "      <th>Comb</th>\n",
       "      <th>R^2</th>\n",
       "    </tr>\n",
       "  </thead>\n",
       "  <tbody>\n",
       "    <tr>\n",
       "      <th>3</th>\n",
       "      <td>(v1, v5)</td>\n",
       "      <td>0.505834</td>\n",
       "    </tr>\n",
       "    <tr>\n",
       "      <th>37</th>\n",
       "      <td>(v6, v9)</td>\n",
       "      <td>0.465593</td>\n",
       "    </tr>\n",
       "    <tr>\n",
       "      <th>8</th>\n",
       "      <td>(v1, v10)</td>\n",
       "      <td>0.463905</td>\n",
       "    </tr>\n",
       "    <tr>\n",
       "      <th>28</th>\n",
       "      <td>(v4, v9)</td>\n",
       "      <td>0.383938</td>\n",
       "    </tr>\n",
       "    <tr>\n",
       "      <th>25</th>\n",
       "      <td>(v4, v6)</td>\n",
       "      <td>0.324548</td>\n",
       "    </tr>\n",
       "  </tbody>\n",
       "</table>\n",
       "</div>"
      ],
      "text/plain": [
       "         Comb       R^2\n",
       "3    (v1, v5)  0.505834\n",
       "37   (v6, v9)  0.465593\n",
       "8   (v1, v10)  0.463905\n",
       "28   (v4, v9)  0.383938\n",
       "25   (v4, v6)  0.324548"
      ]
     },
     "execution_count": 156,
     "metadata": {},
     "output_type": "execute_result"
    }
   ],
   "source": [
    "corr_df(toy_df).head()"
   ]
  },
  {
   "cell_type": "markdown",
   "metadata": {},
   "source": [
    "Looks like it's working fine. A small random dataset like this isn't likely to have highly correlated variables, though. There are no good candidates for PCA.\n",
    "\n",
    "A much larger dataset should yield some highly correlated variables and give an idea of how this function will scale up."
   ]
  },
  {
   "cell_type": "code",
   "execution_count": 106,
   "metadata": {
    "collapsed": false
   },
   "outputs": [],
   "source": [
    "# set up a larger dataset with 1000 variables\n",
    "big_r = 10\n",
    "big_c = 1000\n",
    "big_set = np.random.rand(big_r, big_c)\n",
    "big_column_labels = ['v'+str(i) for i in range(1, big_c+1)]\n",
    "big_df = pd.DataFrame(big_set, columns=big_column_labels)"
   ]
  },
  {
   "cell_type": "markdown",
   "metadata": {},
   "source": [
    "Let's run the build-in pandas function first, to get a benchmark."
   ]
  },
  {
   "cell_type": "code",
   "execution_count": 134,
   "metadata": {
    "collapsed": false
   },
   "outputs": [
    {
     "name": "stdout",
     "output_type": "stream",
     "text": [
      "CPU times: user 51.2 ms, sys: 5.85 ms, total: 57 ms\n",
      "Wall time: 62.6 ms\n"
     ]
    },
    {
     "data": {
      "text/html": [
       "<div>\n",
       "<table border=\"1\" class=\"dataframe\">\n",
       "  <thead>\n",
       "    <tr style=\"text-align: right;\">\n",
       "      <th></th>\n",
       "      <th>v1</th>\n",
       "      <th>v2</th>\n",
       "      <th>v3</th>\n",
       "      <th>v4</th>\n",
       "      <th>v5</th>\n",
       "      <th>v6</th>\n",
       "      <th>v7</th>\n",
       "      <th>v8</th>\n",
       "      <th>v9</th>\n",
       "      <th>v10</th>\n",
       "      <th>...</th>\n",
       "      <th>v991</th>\n",
       "      <th>v992</th>\n",
       "      <th>v993</th>\n",
       "      <th>v994</th>\n",
       "      <th>v995</th>\n",
       "      <th>v996</th>\n",
       "      <th>v997</th>\n",
       "      <th>v998</th>\n",
       "      <th>v999</th>\n",
       "      <th>v1000</th>\n",
       "    </tr>\n",
       "  </thead>\n",
       "  <tbody>\n",
       "    <tr>\n",
       "      <th>v1</th>\n",
       "      <td>1.000000</td>\n",
       "      <td>0.600583</td>\n",
       "      <td>0.265525</td>\n",
       "      <td>0.382618</td>\n",
       "      <td>0.646353</td>\n",
       "      <td>0.051537</td>\n",
       "      <td>0.202357</td>\n",
       "      <td>0.140303</td>\n",
       "      <td>-0.136602</td>\n",
       "      <td>-0.076423</td>\n",
       "      <td>...</td>\n",
       "      <td>0.026115</td>\n",
       "      <td>0.421334</td>\n",
       "      <td>0.100374</td>\n",
       "      <td>-0.056942</td>\n",
       "      <td>0.418734</td>\n",
       "      <td>-0.261678</td>\n",
       "      <td>-0.428925</td>\n",
       "      <td>0.158484</td>\n",
       "      <td>0.071713</td>\n",
       "      <td>0.119796</td>\n",
       "    </tr>\n",
       "    <tr>\n",
       "      <th>v2</th>\n",
       "      <td>0.600583</td>\n",
       "      <td>1.000000</td>\n",
       "      <td>-0.085824</td>\n",
       "      <td>0.516069</td>\n",
       "      <td>0.249677</td>\n",
       "      <td>0.100644</td>\n",
       "      <td>-0.137207</td>\n",
       "      <td>0.307585</td>\n",
       "      <td>0.446485</td>\n",
       "      <td>-0.084315</td>\n",
       "      <td>...</td>\n",
       "      <td>0.280711</td>\n",
       "      <td>0.368470</td>\n",
       "      <td>0.196018</td>\n",
       "      <td>-0.679984</td>\n",
       "      <td>0.377732</td>\n",
       "      <td>0.268507</td>\n",
       "      <td>0.016908</td>\n",
       "      <td>-0.062176</td>\n",
       "      <td>0.266576</td>\n",
       "      <td>0.138984</td>\n",
       "    </tr>\n",
       "    <tr>\n",
       "      <th>v3</th>\n",
       "      <td>0.265525</td>\n",
       "      <td>-0.085824</td>\n",
       "      <td>1.000000</td>\n",
       "      <td>-0.348503</td>\n",
       "      <td>0.384715</td>\n",
       "      <td>0.132708</td>\n",
       "      <td>0.130515</td>\n",
       "      <td>0.515675</td>\n",
       "      <td>-0.013319</td>\n",
       "      <td>0.532671</td>\n",
       "      <td>...</td>\n",
       "      <td>0.236077</td>\n",
       "      <td>0.064315</td>\n",
       "      <td>0.208143</td>\n",
       "      <td>0.530063</td>\n",
       "      <td>0.106356</td>\n",
       "      <td>-0.361143</td>\n",
       "      <td>-0.639870</td>\n",
       "      <td>0.518781</td>\n",
       "      <td>0.430666</td>\n",
       "      <td>0.180530</td>\n",
       "    </tr>\n",
       "    <tr>\n",
       "      <th>v4</th>\n",
       "      <td>0.382618</td>\n",
       "      <td>0.516069</td>\n",
       "      <td>-0.348503</td>\n",
       "      <td>1.000000</td>\n",
       "      <td>0.426266</td>\n",
       "      <td>0.081357</td>\n",
       "      <td>0.060344</td>\n",
       "      <td>-0.057238</td>\n",
       "      <td>0.280474</td>\n",
       "      <td>-0.009246</td>\n",
       "      <td>...</td>\n",
       "      <td>-0.495823</td>\n",
       "      <td>0.041701</td>\n",
       "      <td>0.112435</td>\n",
       "      <td>-0.639355</td>\n",
       "      <td>0.141044</td>\n",
       "      <td>0.327731</td>\n",
       "      <td>0.419215</td>\n",
       "      <td>0.088404</td>\n",
       "      <td>0.111580</td>\n",
       "      <td>-0.078165</td>\n",
       "    </tr>\n",
       "    <tr>\n",
       "      <th>v5</th>\n",
       "      <td>0.646353</td>\n",
       "      <td>0.249677</td>\n",
       "      <td>0.384715</td>\n",
       "      <td>0.426266</td>\n",
       "      <td>1.000000</td>\n",
       "      <td>0.270706</td>\n",
       "      <td>-0.172680</td>\n",
       "      <td>0.328237</td>\n",
       "      <td>-0.065074</td>\n",
       "      <td>0.447937</td>\n",
       "      <td>...</td>\n",
       "      <td>-0.408177</td>\n",
       "      <td>0.425591</td>\n",
       "      <td>-0.153277</td>\n",
       "      <td>0.012187</td>\n",
       "      <td>0.457297</td>\n",
       "      <td>0.045057</td>\n",
       "      <td>0.002612</td>\n",
       "      <td>0.151720</td>\n",
       "      <td>0.280005</td>\n",
       "      <td>0.011309</td>\n",
       "    </tr>\n",
       "  </tbody>\n",
       "</table>\n",
       "<p>5 rows × 1000 columns</p>\n",
       "</div>"
      ],
      "text/plain": [
       "          v1        v2        v3        v4        v5        v6        v7  \\\n",
       "v1  1.000000  0.600583  0.265525  0.382618  0.646353  0.051537  0.202357   \n",
       "v2  0.600583  1.000000 -0.085824  0.516069  0.249677  0.100644 -0.137207   \n",
       "v3  0.265525 -0.085824  1.000000 -0.348503  0.384715  0.132708  0.130515   \n",
       "v4  0.382618  0.516069 -0.348503  1.000000  0.426266  0.081357  0.060344   \n",
       "v5  0.646353  0.249677  0.384715  0.426266  1.000000  0.270706 -0.172680   \n",
       "\n",
       "          v8        v9       v10    ...         v991      v992      v993  \\\n",
       "v1  0.140303 -0.136602 -0.076423    ...     0.026115  0.421334  0.100374   \n",
       "v2  0.307585  0.446485 -0.084315    ...     0.280711  0.368470  0.196018   \n",
       "v3  0.515675 -0.013319  0.532671    ...     0.236077  0.064315  0.208143   \n",
       "v4 -0.057238  0.280474 -0.009246    ...    -0.495823  0.041701  0.112435   \n",
       "v5  0.328237 -0.065074  0.447937    ...    -0.408177  0.425591 -0.153277   \n",
       "\n",
       "        v994      v995      v996      v997      v998      v999     v1000  \n",
       "v1 -0.056942  0.418734 -0.261678 -0.428925  0.158484  0.071713  0.119796  \n",
       "v2 -0.679984  0.377732  0.268507  0.016908 -0.062176  0.266576  0.138984  \n",
       "v3  0.530063  0.106356 -0.361143 -0.639870  0.518781  0.430666  0.180530  \n",
       "v4 -0.639355  0.141044  0.327731  0.419215  0.088404  0.111580 -0.078165  \n",
       "v5  0.012187  0.457297  0.045057  0.002612  0.151720  0.280005  0.011309  \n",
       "\n",
       "[5 rows x 1000 columns]"
      ]
     },
     "execution_count": 134,
     "metadata": {},
     "output_type": "execute_result"
    }
   ],
   "source": [
    "%%time\n",
    "big_df.corr().head()"
   ]
  },
  {
   "cell_type": "code",
   "execution_count": 130,
   "metadata": {
    "collapsed": false
   },
   "outputs": [
    {
     "name": "stdout",
     "output_type": "stream",
     "text": [
      "CPU times: user 6.77 s, sys: 76.7 ms, total: 6.85 s\n",
      "Wall time: 6.86 s\n"
     ]
    }
   ],
   "source": [
    "%%time\n",
    "big_corrs = corr_df(big_df)"
   ]
  },
  {
   "cell_type": "markdown",
   "metadata": {},
   "source": [
    "There's a bit of computational overhead to create this new view, but it's not too serious. 1000 variables means that the number of combinations is: $$\\dfrac {1000!}{2!\\cdot 998!}=499,500$$\n",
    "\n",
    "With extremely large datasets, more efficient code may be needed.\n",
    "\n",
    "Let's see if there are any candidates for PCA."
   ]
  },
  {
   "cell_type": "code",
   "execution_count": 150,
   "metadata": {
    "collapsed": false,
    "scrolled": true
   },
   "outputs": [
    {
     "data": {
      "text/html": [
       "<div>\n",
       "<table border=\"1\" class=\"dataframe\">\n",
       "  <thead>\n",
       "    <tr style=\"text-align: right;\">\n",
       "      <th></th>\n",
       "      <th>Comb</th>\n",
       "      <th>R^2</th>\n",
       "    </tr>\n",
       "  </thead>\n",
       "  <tbody>\n",
       "    <tr>\n",
       "      <th>359364</th>\n",
       "      <td>(v471, v521)</td>\n",
       "      <td>0.983346</td>\n",
       "    </tr>\n",
       "    <tr>\n",
       "      <th>46827</th>\n",
       "      <td>(v49, v53)</td>\n",
       "      <td>0.974711</td>\n",
       "    </tr>\n",
       "    <tr>\n",
       "      <th>468849</th>\n",
       "      <td>(v752, v978)</td>\n",
       "      <td>0.955567</td>\n",
       "    </tr>\n",
       "  </tbody>\n",
       "</table>\n",
       "</div>"
      ],
      "text/plain": [
       "                Comb       R^2\n",
       "359364  (v471, v521)  0.983346\n",
       "46827     (v49, v53)  0.974711\n",
       "468849  (v752, v978)  0.955567"
      ]
     },
     "execution_count": 150,
     "metadata": {},
     "output_type": "execute_result"
    }
   ],
   "source": [
    "big_corrs[big_corrs['R^2'] >= .95]"
   ]
  },
  {
   "cell_type": "markdown",
   "metadata": {},
   "source": [
    "Looks like there are three good pairs of candidates. Let's take a look at one."
   ]
  },
  {
   "cell_type": "code",
   "execution_count": 120,
   "metadata": {
    "collapsed": false
   },
   "outputs": [
    {
     "data": {
      "text/plain": [
       "array([ 0.99584182,  0.00415818])"
      ]
     },
     "execution_count": 120,
     "metadata": {},
     "output_type": "execute_result"
    }
   ],
   "source": [
    "from sklearn.decomposition import PCA\n",
    "\n",
    "pca = PCA()\n",
    "pca.fit(big_df[['v471', 'v521']])\n",
    "pca.explained_variance_ratio_"
   ]
  },
  {
   "cell_type": "markdown",
   "metadata": {},
   "source": [
    "The first principal component is so large that it's reasonably safe to transform `v471` and `v521` into a single variable, thereby reducing the dimensions of the dataset."
   ]
  }
 ],
 "metadata": {
  "kernelspec": {
   "display_name": "Python 2",
   "language": "python",
   "name": "python2"
  },
  "language_info": {
   "codemirror_mode": {
    "name": "ipython",
    "version": 2
   },
   "file_extension": ".py",
   "mimetype": "text/x-python",
   "name": "python",
   "nbconvert_exporter": "python",
   "pygments_lexer": "ipython2",
   "version": "2.7.11"
  },
  "nikola": {
   "category": "",
   "date": "2016-04-06 08:51:04 UTC+08:00",
   "description": "",
   "link": "",
   "slug": "dimensionality-reduction-identifying-numerical-candidates-for-pca",
   "tags": "",
   "title": "Dimensionality Reduction: Identifying numerical candidates for PCA",
   "type": "text"
  }
 },
 "nbformat": 4,
 "nbformat_minor": 0
}

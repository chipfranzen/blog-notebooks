{
 "cells": [
  {
   "cell_type": "markdown",
   "metadata": {},
   "source": [
    "# Simple Voting Classifier\n",
    "\n",
    "Libraries like Scikit-learn are sometimes equiped with a voting classifier that will allow you to aggregate your machine learning models through voting. If you have a bunch of models already built, though, voting classifiers can take a very long time to build, as each individual model has to be built again by the new classifier."
   ]
  },
  {
   "cell_type": "markdown",
   "metadata": {},
   "source": [
    "<!-- TEASER_END -->"
   ]
  },
  {
   "cell_type": "markdown",
   "metadata": {},
   "source": [
    "In the case of binary classification with scikit-learn, models that you have built, tuned, and tested are easily aggregated with a simple voting algorithm."
   ]
  },
  {
   "cell_type": "markdown",
   "metadata": {},
   "source": [
    "First, import the modules:\n",
    "\n",
    "```\n",
    "import numpy as np\n",
    "from sklearn import metrics\n",
    "```"
   ]
  },
  {
   "cell_type": "markdown",
   "metadata": {},
   "source": [
    "Next, generate predictions for each model:\n",
    "\n",
    "```\n",
    ">>> pred = clf.predict(X)\n",
    ">>> pred2 = clf2.predict(X)\n",
    "\n",
    ">>> predictions = [pred, pred2]\n",
    "\n",
    "```\n",
    "The numpy array data structure makes it easy to compare the predictions of each classifier and return a new array of the vote results:\n",
    "\n",
    "```\n",
    "def voting_classifier(predictions):\n",
    "    '''\n",
    "    returns a numpy array of predictions, based upon votes of input models\n",
    "    \n",
    "    input- list of numpy arrays\n",
    "    '''\n",
    "    return (sum(predictions) >= (len(predictions)/2.)).astype(int)\n",
    "    \n",
    ">>> vote_predictions = voting_classifier(predictions)\n",
    "```\n",
    "\n"
   ]
  },
  {
   "cell_type": "markdown",
   "metadata": {},
   "source": [
    "Now that we have our predictions, it's convenient to streamline evaluation with a function:\n",
    "\n",
    "```\n",
    "def classifier_evaluation(true_labels, predictions):\n",
    "    '''\n",
    "    Generates evaluation metrics\n",
    "    \n",
    "    inputs - numpy arrays\n",
    "    '''\n",
    "    print 'Acc: ', metrics.accuracy_score(true_labels, predictions), '\\n'\n",
    "    print metrics.confusion_matrix(true_labels, predictions)\n",
    "    print metrics.classification_report(true_labels, predictions)\n",
    "```\n",
    "\n",
    "Sample output:\n",
    "```\n",
    ">>> classifier_evaluation(y, vote_predictions)\n",
    "\n",
    "    Acc:  0.816753308129 \n",
    "\n",
    "[[6634 1284]\n",
    " [ 267  279]]\n",
    "             precision    recall  f1-score   support\n",
    "\n",
    "        0.0       0.96      0.84      0.90      7918\n",
    "        1.0       0.18      0.51      0.26       546\n",
    "\n",
    "avg / total       0.91      0.82      0.85      8464\n",
    "```"
   ]
  },
  {
   "cell_type": "markdown",
   "metadata": {},
   "source": [
    "And there you have it: a quick and dirty binary voting classifier that doesn't require rebuilding the models."
   ]
  },
  {
   "cell_type": "markdown",
   "metadata": {},
   "source": [
    "_____\n",
    "**Copyright 2015 Charles Franzen**\n",
    "\n",
    "Licensed under the Apache License, Version 2.0 (the \"License\");\n",
    "you may not use this file except in compliance with the License.\n",
    "You may obtain a copy of the License at\n",
    "\n",
    "    http://www.apache.org/licenses/LICENSE-2.0\n",
    "\n",
    "Unless required by applicable law or agreed to in writing, software\n",
    "distributed under the License is distributed on an \"AS IS\" BASIS,\n",
    "WITHOUT WARRANTIES OR CONDITIONS OF ANY KIND, either express or implied.\n",
    "See the License for the specific language governing permissions and\n",
    "limitations under the License."
   ]
  }
 ],
 "metadata": {
  "kernelspec": {
   "display_name": "Python 2",
   "language": "python",
   "name": "python2"
  },
  "language_info": {
   "codemirror_mode": {
    "name": "ipython",
    "version": 2
   },
   "file_extension": ".py",
   "mimetype": "text/x-python",
   "name": "python",
   "nbconvert_exporter": "python",
   "pygments_lexer": "ipython2",
   "version": "2.7.11"
  },
  "nikola": {
   "category": "",
   "date": "2015-12-26 11:42:53 UTC+08:00",
   "description": "",
   "link": "",
   "slug": "simple-voting-classifier",
   "tags": "",
   "title": "Simple Voting Classifier",
   "type": "text"
  }
 },
 "nbformat": 4,
 "nbformat_minor": 0
}
